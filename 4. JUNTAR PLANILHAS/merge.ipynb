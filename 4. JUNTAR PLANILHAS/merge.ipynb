{
 "cells": [
  {
   "cell_type": "code",
   "execution_count": 2,
   "metadata": {},
   "outputs": [],
   "source": [
    "import os\n",
    "import glob\n",
    "import pandas as pd"
   ]
  },
  {
   "cell_type": "markdown",
   "metadata": {},
   "source": [
    "# SCRIPT Responsável por MERGER tudo que é EXCEL na Pasta em que ELE ESTÁ #"
   ]
  },
  {
   "cell_type": "code",
   "execution_count": 3,
   "metadata": {},
   "outputs": [],
   "source": [
    "extension = 'xlsx'\n",
    "todasPlanilhas = [i for i in glob.glob('*.{}'.format(extension))]"
   ]
  },
  {
   "cell_type": "code",
   "execution_count": 4,
   "metadata": {},
   "outputs": [],
   "source": [
    "combinarPlanilhas = pd.concat([pd.read_excel(f) for f in todasPlanilhas])\n"
   ]
  },
  {
   "cell_type": "code",
   "execution_count": 5,
   "metadata": {},
   "outputs": [],
   "source": [
    "combinarPlanilhas.to_excel(\"Ano_Materia_Merge.xlsx\", index=False, encoding= 'utf-8-sig') #Fique Atento ao nome de saída"
   ]
  },
  {
   "cell_type": "code",
   "execution_count": 6,
   "metadata": {},
   "outputs": [
    {
     "name": "stdout",
     "output_type": "stream",
     "text": [
      "['1º ANO MAT.xlsx', '1º ANO PORT.xlsx', '2º ANO MAT.xlsx', '2º ANO PORT.xlsx', '3º ANO MAT.xlsx', '3º ANO PORT.xlsx', '4º ANO MAT.xlsx', '4º ANO PORT.xlsx', '5º ANO MAT.xlsx', '5º ANO PORT.xlsx']\n"
     ]
    }
   ],
   "source": [
    "print(todasPlanilhas)"
   ]
  }
 ],
 "metadata": {
  "interpreter": {
   "hash": "ad2bdc8ecc057115af97d19610ffacc2b4e99fae6737bb82f5d7fb13d2f2c186"
  },
  "kernelspec": {
   "display_name": "Python 3.9.12 ('base')",
   "language": "python",
   "name": "python3"
  },
  "language_info": {
   "codemirror_mode": {
    "name": "ipython",
    "version": 3
   },
   "file_extension": ".py",
   "mimetype": "text/x-python",
   "name": "python",
   "nbconvert_exporter": "python",
   "pygments_lexer": "ipython3",
   "version": "3.9.13"
  },
  "orig_nbformat": 4
 },
 "nbformat": 4,
 "nbformat_minor": 2
}
