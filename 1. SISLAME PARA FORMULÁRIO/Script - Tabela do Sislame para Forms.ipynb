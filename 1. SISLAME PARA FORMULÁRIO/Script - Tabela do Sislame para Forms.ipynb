{
 "cells": [
  {
   "cell_type": "code",
   "execution_count": 7,
   "metadata": {},
   "outputs": [],
   "source": [
    "import pandas as pd #Importando Biblioteca Pandas, que tem sintaxes simples e úteis"
   ]
  },
  {
   "cell_type": "code",
   "execution_count": 8,
   "metadata": {},
   "outputs": [],
   "source": [
    "tabelasislame = pd.read_excel(\"ALUNOS_DADOS_CADASTRAIS.xlsx\") #Aqui, criei uma variável para receber a leitura do Xls do Pandas"
   ]
  },
  {
   "cell_type": "code",
   "execution_count": 9,
   "metadata": {},
   "outputs": [
    {
     "data": {
      "text/html": [
       "<div>\n",
       "<style scoped>\n",
       "    .dataframe tbody tr th:only-of-type {\n",
       "        vertical-align: middle;\n",
       "    }\n",
       "\n",
       "    .dataframe tbody tr th {\n",
       "        vertical-align: top;\n",
       "    }\n",
       "\n",
       "    .dataframe thead th {\n",
       "        text-align: right;\n",
       "    }\n",
       "</style>\n",
       "<table border=\"1\" class=\"dataframe\">\n",
       "  <thead>\n",
       "    <tr style=\"text-align: right;\">\n",
       "      <th></th>\n",
       "      <th>REGIONAL</th>\n",
       "      <th>MUNICÍPIO</th>\n",
       "      <th>ESCOLA</th>\n",
       "      <th>CENSO</th>\n",
       "      <th>REDE</th>\n",
       "      <th>NOME</th>\n",
       "      <th>CD INEP</th>\n",
       "      <th>NASCIMENTO</th>\n",
       "      <th>NATURALIDADE</th>\n",
       "      <th>PAÍS DE ORIGEM</th>\n",
       "      <th>...</th>\n",
       "      <th>DATA MATRÍCULA</th>\n",
       "      <th>SITUAÇÃO MATRÍCULA</th>\n",
       "      <th>EXCLUSIVO AEE</th>\n",
       "      <th>DATA ENCERRAMENTO</th>\n",
       "      <th>ANO REFERENCIA</th>\n",
       "      <th>TIPO FORNECEDOR ENERGIA</th>\n",
       "      <th>NOME ENERGIA FORNECEDOR</th>\n",
       "      <th>COD IDENTIFICACAO</th>\n",
       "      <th>Unnamed: 52</th>\n",
       "      <th>CAMPO IDENTIFICACAO</th>\n",
       "    </tr>\n",
       "  </thead>\n",
       "  <tbody>\n",
       "    <tr>\n",
       "      <th>0</th>\n",
       "      <td>SRE MURIAE</td>\n",
       "      <td>PREFEITURA MUNICIPAL DE MURIAÉ</td>\n",
       "      <td>EM GILBERTO JOSÉ TANUS BRAZ</td>\n",
       "      <td>31098779</td>\n",
       "      <td>MUNICIPAL</td>\n",
       "      <td>NICOLAS DA SILVA VARGAS PAMPOLINI</td>\n",
       "      <td>1.231314e+11</td>\n",
       "      <td>02/05/2008</td>\n",
       "      <td>Muriaé</td>\n",
       "      <td>NaN</td>\n",
       "      <td>...</td>\n",
       "      <td>26/12/2022</td>\n",
       "      <td>ATIVA</td>\n",
       "      <td>NÃO</td>\n",
       "      <td>NaN</td>\n",
       "      <td>2023</td>\n",
       "      <td>OPERADORA</td>\n",
       "      <td>ENERGISA</td>\n",
       "      <td>17306194</td>\n",
       "      <td>NaN</td>\n",
       "      <td>CDC - Código do consumidor</td>\n",
       "    </tr>\n",
       "    <tr>\n",
       "      <th>1</th>\n",
       "      <td>SRE MURIAE</td>\n",
       "      <td>PREFEITURA MUNICIPAL DE MURIAÉ</td>\n",
       "      <td>EM GILBERTO JOSÉ TANUS BRAZ</td>\n",
       "      <td>31098779</td>\n",
       "      <td>MUNICIPAL</td>\n",
       "      <td>YASMIM KETHELLY DA SILVA PEDROSA</td>\n",
       "      <td>1.239934e+11</td>\n",
       "      <td>09/02/2012</td>\n",
       "      <td>Muriaé</td>\n",
       "      <td>NaN</td>\n",
       "      <td>...</td>\n",
       "      <td>13/12/2022</td>\n",
       "      <td>ATIVA</td>\n",
       "      <td>NÃO</td>\n",
       "      <td>NaN</td>\n",
       "      <td>2023</td>\n",
       "      <td>OPERADORA</td>\n",
       "      <td>ENERGISA</td>\n",
       "      <td>111114725</td>\n",
       "      <td>NaN</td>\n",
       "      <td>CDC - Código do consumidor</td>\n",
       "    </tr>\n",
       "    <tr>\n",
       "      <th>2</th>\n",
       "      <td>SRE MURIAE</td>\n",
       "      <td>PREFEITURA MUNICIPAL DE MURIAÉ</td>\n",
       "      <td>EM CLÉRIA TICON CARNEIRO</td>\n",
       "      <td>31098761</td>\n",
       "      <td>MUNICIPAL</td>\n",
       "      <td>RAFAEL SILVA FIGUEIREDO</td>\n",
       "      <td>1.233548e+11</td>\n",
       "      <td>14/06/2007</td>\n",
       "      <td>Muriaé</td>\n",
       "      <td>NaN</td>\n",
       "      <td>...</td>\n",
       "      <td>18/11/2022</td>\n",
       "      <td>ATIVA</td>\n",
       "      <td>NÃO</td>\n",
       "      <td>NaN</td>\n",
       "      <td>2023</td>\n",
       "      <td>OPERADORA</td>\n",
       "      <td>ENERGISA</td>\n",
       "      <td>112125928</td>\n",
       "      <td>NaN</td>\n",
       "      <td>CDC - Código do consumidor</td>\n",
       "    </tr>\n",
       "  </tbody>\n",
       "</table>\n",
       "<p>3 rows × 54 columns</p>\n",
       "</div>"
      ],
      "text/plain": [
       "     REGIONAL                       MUNICÍPIO                       ESCOLA  \\\n",
       "0  SRE MURIAE  PREFEITURA MUNICIPAL DE MURIAÉ  EM GILBERTO JOSÉ TANUS BRAZ   \n",
       "1  SRE MURIAE  PREFEITURA MUNICIPAL DE MURIAÉ  EM GILBERTO JOSÉ TANUS BRAZ   \n",
       "2  SRE MURIAE  PREFEITURA MUNICIPAL DE MURIAÉ     EM CLÉRIA TICON CARNEIRO   \n",
       "\n",
       "      CENSO       REDE                               NOME       CD INEP  \\\n",
       "0  31098779  MUNICIPAL  NICOLAS DA SILVA VARGAS PAMPOLINI  1.231314e+11   \n",
       "1  31098779  MUNICIPAL   YASMIM KETHELLY DA SILVA PEDROSA  1.239934e+11   \n",
       "2  31098761  MUNICIPAL            RAFAEL SILVA FIGUEIREDO  1.233548e+11   \n",
       "\n",
       "   NASCIMENTO NATURALIDADE PAÍS DE ORIGEM  ...  DATA MATRÍCULA  \\\n",
       "0  02/05/2008       Muriaé            NaN  ...      26/12/2022   \n",
       "1  09/02/2012       Muriaé            NaN  ...      13/12/2022   \n",
       "2  14/06/2007       Muriaé            NaN  ...      18/11/2022   \n",
       "\n",
       "  SITUAÇÃO MATRÍCULA EXCLUSIVO AEE DATA ENCERRAMENTO ANO REFERENCIA  \\\n",
       "0              ATIVA           NÃO               NaN           2023   \n",
       "1              ATIVA           NÃO               NaN           2023   \n",
       "2              ATIVA           NÃO               NaN           2023   \n",
       "\n",
       "  TIPO FORNECEDOR ENERGIA NOME ENERGIA FORNECEDOR COD IDENTIFICACAO  \\\n",
       "0               OPERADORA                ENERGISA          17306194   \n",
       "1               OPERADORA                ENERGISA         111114725   \n",
       "2               OPERADORA                ENERGISA         112125928   \n",
       "\n",
       "  Unnamed: 52         CAMPO IDENTIFICACAO  \n",
       "0         NaN  CDC - Código do consumidor  \n",
       "1         NaN  CDC - Código do consumidor  \n",
       "2         NaN  CDC - Código do consumidor  \n",
       "\n",
       "[3 rows x 54 columns]"
      ]
     },
     "execution_count": 9,
     "metadata": {},
     "output_type": "execute_result"
    }
   ],
   "source": [
    "tabelasislame.head(3) #Aqui apresenta as 5 primeiras linhas da tabela"
   ]
  },
  {
   "cell_type": "code",
   "execution_count": 10,
   "metadata": {},
   "outputs": [],
   "source": [
    "excluirdados = tabelasislame[ tabelasislame['ETAPA'] == 'AEE/AC' ].index #A variável excluirdados recebe a tabela do sislame, seleciona a coluna ETAPA e exclui o dado mencionado.\n",
    "tabelasislame.drop(excluirdados , inplace=True)"
   ]
  },
  {
   "cell_type": "code",
   "execution_count": 11,
   "metadata": {},
   "outputs": [],
   "source": [
    "excluirdados = tabelasislame[ tabelasislame['ETAPA'] == 'MATERNAL' ].index\n",
    "tabelasislame.drop(excluirdados , inplace=True)"
   ]
  },
  {
   "cell_type": "code",
   "execution_count": 12,
   "metadata": {},
   "outputs": [],
   "source": [
    "excluirdados = tabelasislame[ tabelasislame['ETAPA'] == '1º Período' ].index\n",
    "tabelasislame.drop(excluirdados , inplace=True)"
   ]
  },
  {
   "cell_type": "code",
   "execution_count": 13,
   "metadata": {},
   "outputs": [],
   "source": [
    "excluirdados = tabelasislame[ tabelasislame['ETAPA'] == '2º Período' ].index\n",
    "tabelasislame.drop(excluirdados , inplace=True)"
   ]
  },
  {
   "cell_type": "code",
   "execution_count": 14,
   "metadata": {},
   "outputs": [],
   "source": [
    "excluirdados = tabelasislame[ tabelasislame['ETAPA'] == 'BERÇÁRIO I' ].index\n",
    "tabelasislame.drop(excluirdados , inplace=True)"
   ]
  },
  {
   "cell_type": "code",
   "execution_count": 15,
   "metadata": {},
   "outputs": [],
   "source": [
    "excluirdados = tabelasislame[ tabelasislame['ETAPA'] == 'BERÇÁRIO II' ].index\n",
    "tabelasislame.drop(excluirdados , inplace=True)"
   ]
  },
  {
   "cell_type": "code",
   "execution_count": 16,
   "metadata": {},
   "outputs": [],
   "source": [
    "excluirdados = tabelasislame[ tabelasislame['ETAPA'] == '3° PERÍODO - AI' ].index\n",
    "tabelasislame.drop(excluirdados , inplace=True)"
   ]
  },
  {
   "cell_type": "code",
   "execution_count": 17,
   "metadata": {},
   "outputs": [],
   "source": [
    "excluirdados = tabelasislame[ tabelasislame['ETAPA'] == '3° PERÍODO' ].index\n",
    "tabelasislame.drop(excluirdados , inplace=True)"
   ]
  },
  {
   "cell_type": "code",
   "execution_count": 18,
   "metadata": {},
   "outputs": [
    {
     "data": {
      "text/html": [
       "<div>\n",
       "<style scoped>\n",
       "    .dataframe tbody tr th:only-of-type {\n",
       "        vertical-align: middle;\n",
       "    }\n",
       "\n",
       "    .dataframe tbody tr th {\n",
       "        vertical-align: top;\n",
       "    }\n",
       "\n",
       "    .dataframe thead th {\n",
       "        text-align: right;\n",
       "    }\n",
       "</style>\n",
       "<table border=\"1\" class=\"dataframe\">\n",
       "  <thead>\n",
       "    <tr style=\"text-align: right;\">\n",
       "      <th></th>\n",
       "      <th>ESCOLA</th>\n",
       "      <th>NOME</th>\n",
       "      <th>ETAPA</th>\n",
       "      <th>TURMA</th>\n",
       "    </tr>\n",
       "  </thead>\n",
       "  <tbody>\n",
       "    <tr>\n",
       "      <th>0</th>\n",
       "      <td>EM GILBERTO JOSÉ TANUS BRAZ</td>\n",
       "      <td>NICOLAS DA SILVA VARGAS PAMPOLINI</td>\n",
       "      <td>9º Ano</td>\n",
       "      <td>CT-EF 9º ANO H 2023</td>\n",
       "    </tr>\n",
       "    <tr>\n",
       "      <th>1</th>\n",
       "      <td>EM GILBERTO JOSÉ TANUS BRAZ</td>\n",
       "      <td>YASMIM KETHELLY DA SILVA PEDROSA</td>\n",
       "      <td>6º Ano</td>\n",
       "      <td>CT-EF 6º ANO F 2023</td>\n",
       "    </tr>\n",
       "    <tr>\n",
       "      <th>2</th>\n",
       "      <td>EM CLÉRIA TICON CARNEIRO</td>\n",
       "      <td>RAFAEL SILVA FIGUEIREDO</td>\n",
       "      <td>9º Ano</td>\n",
       "      <td>CT-EF 9º ANO A - 2023</td>\n",
       "    </tr>\n",
       "    <tr>\n",
       "      <th>3</th>\n",
       "      <td>EM CLÉRIA TICON CARNEIRO</td>\n",
       "      <td>WESLEY MAIK DOS SANTOS NASCIMENTO</td>\n",
       "      <td>9º Ano</td>\n",
       "      <td>CT-EF 9º ANO A - 2023</td>\n",
       "    </tr>\n",
       "    <tr>\n",
       "      <th>4</th>\n",
       "      <td>EM GILBERTO JOSÉ TANUS BRAZ</td>\n",
       "      <td>GUSTAVO RICARDO PINTO DE REZENDE</td>\n",
       "      <td>6º Ano</td>\n",
       "      <td>CT-EF 6º ANO G 2023</td>\n",
       "    </tr>\n",
       "  </tbody>\n",
       "</table>\n",
       "</div>"
      ],
      "text/plain": [
       "                        ESCOLA                               NOME   ETAPA  \\\n",
       "0  EM GILBERTO JOSÉ TANUS BRAZ  NICOLAS DA SILVA VARGAS PAMPOLINI  9º Ano   \n",
       "1  EM GILBERTO JOSÉ TANUS BRAZ   YASMIM KETHELLY DA SILVA PEDROSA  6º Ano   \n",
       "2     EM CLÉRIA TICON CARNEIRO            RAFAEL SILVA FIGUEIREDO  9º Ano   \n",
       "3     EM CLÉRIA TICON CARNEIRO  WESLEY MAIK DOS SANTOS NASCIMENTO  9º Ano   \n",
       "4  EM GILBERTO JOSÉ TANUS BRAZ   GUSTAVO RICARDO PINTO DE REZENDE  6º Ano   \n",
       "\n",
       "                   TURMA  \n",
       "0    CT-EF 9º ANO H 2023  \n",
       "1    CT-EF 6º ANO F 2023  \n",
       "2  CT-EF 9º ANO A - 2023  \n",
       "3  CT-EF 9º ANO A - 2023  \n",
       "4    CT-EF 6º ANO G 2023  "
      ]
     },
     "execution_count": 18,
     "metadata": {},
     "output_type": "execute_result"
    }
   ],
   "source": [
    "tabelaformatada = tabelasislame[[\"ESCOLA\",\"NOME\",\"ETAPA\",\"TURMA\"]] #Criamos uma nova variável que recebe as mudanças\n",
    "tabelaformatada.head(5)"
   ]
  },
  {
   "cell_type": "code",
   "execution_count": 19,
   "metadata": {},
   "outputs": [],
   "source": [
    "tabelaformatada.to_excel(\"ALUNO_POR_TURMA.xlsx\",index=False) #Aqui ele exporta essa planilha limpa \"tabelaformatada\" dentro da F(x) eu escolhi o nome da planilha que foi exportada"
   ]
  }
 ],
 "metadata": {
  "interpreter": {
   "hash": "ad2bdc8ecc057115af97d19610ffacc2b4e99fae6737bb82f5d7fb13d2f2c186"
  },
  "kernelspec": {
   "display_name": "Python 3.9.12 ('base')",
   "language": "python",
   "name": "python3"
  },
  "language_info": {
   "codemirror_mode": {
    "name": "ipython",
    "version": 3
   },
   "file_extension": ".py",
   "mimetype": "text/x-python",
   "name": "python",
   "nbconvert_exporter": "python",
   "pygments_lexer": "ipython3",
   "version": "3.9.13"
  },
  "orig_nbformat": 4
 },
 "nbformat": 4,
 "nbformat_minor": 2
}
