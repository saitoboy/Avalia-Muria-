{
 "cells": [
  {
   "cell_type": "code",
   "execution_count": 1,
   "metadata": {},
   "outputs": [],
   "source": [
    "import pandas as pd\n",
    "\n",
    "# Carregar a planilha\n",
    "planilha = pd.read_excel('ALUNO_POR_TURMA.xlsx')"
   ]
  },
  {
   "cell_type": "code",
   "execution_count": 2,
   "metadata": {},
   "outputs": [],
   "source": [
    "# Adicionar as colunas extras\n",
    "num_questoes = 25  # Número de questões\n",
    "colunas_extras = ['DISCIPLINA', 'Caso não encontre o nome de algum aluno, digite manualmente para preencher o formulário:']\n",
    "colunas_extras += [f'QUESTÃO {i:02d}' for i in range(1, num_questoes + 1)]\n",
    "planilha = pd.concat([planilha.iloc[:, :4], pd.DataFrame(columns=colunas_extras), planilha.iloc[:, 4:]], axis=1)"
   ]
  },
  {
   "cell_type": "code",
   "execution_count": 3,
   "metadata": {},
   "outputs": [],
   "source": [
    "# Definir o valor \"PORTUGUÊS\" na coluna \"DISCIPLINA\"\n",
    "planilha['DISCIPLINA'] = 'PORTUGUÊS'"
   ]
  },
  {
   "cell_type": "code",
   "execution_count": 4,
   "metadata": {},
   "outputs": [
    {
     "name": "stdout",
     "output_type": "stream",
     "text": [
      "A separação da planilha em arquivos separados foi concluída.\n"
     ]
    }
   ],
   "source": [
    "# Identificar os valores únicos de cada coluna para usar como filtros\n",
    "escolas = planilha['ESCOLA'].unique()\n",
    "etapas = planilha['ETAPA'].unique()\n",
    "turmas = planilha['TURMA'].unique()\n",
    "\n",
    "# Iterar pelos filtros e salvar cada combinação em um arquivo separado\n",
    "for escola in escolas:\n",
    "    for etapa in etapas:\n",
    "        for turma in turmas:\n",
    "            dados_filtrados = planilha[(planilha['ESCOLA'] == escola) & (planilha['ETAPA'] == etapa) & (planilha['TURMA'] == turma)]\n",
    "            if not dados_filtrados.empty:\n",
    "                nome_arquivo = f'{escola}_{etapa}_{turma}.xlsx'  # Nomear o arquivo com a combinação de filtros\n",
    "                dados_filtrados.to_excel(nome_arquivo, index=False)\n",
    "\n",
    "print('A separação da planilha em arquivos separados foi concluída.')"
   ]
  }
 ],
 "metadata": {
  "kernelspec": {
   "display_name": "Python 3.9.13 ('base')",
   "language": "python",
   "name": "python3"
  },
  "language_info": {
   "codemirror_mode": {
    "name": "ipython",
    "version": 3
   },
   "file_extension": ".py",
   "mimetype": "text/x-python",
   "name": "python",
   "nbconvert_exporter": "python",
   "pygments_lexer": "ipython3",
   "version": "3.9.13"
  },
  "orig_nbformat": 4,
  "vscode": {
   "interpreter": {
    "hash": "ad2bdc8ecc057115af97d19610ffacc2b4e99fae6737bb82f5d7fb13d2f2c186"
   }
  }
 },
 "nbformat": 4,
 "nbformat_minor": 2
}
