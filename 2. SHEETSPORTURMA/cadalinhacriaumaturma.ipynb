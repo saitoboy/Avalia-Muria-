{
 "cells": [
  {
   "cell_type": "code",
   "execution_count": 2,
   "metadata": {},
   "outputs": [],
   "source": [
    "import os\n",
    "import pandas as pd\n",
    "\n",
    "# Caminho para a pasta com os arquivos\n",
    "caminho_pasta = r'C:\\Users\\guilherme.saito\\Documents\\Scripts\\SheetsporTurma'\n",
    "\n",
    "# Lista para armazenar os dados extraídos\n",
    "dados = []\n",
    "\n",
    "# Percorre os arquivos na pasta\n",
    "for arquivo in os.listdir(caminho_pasta):\n",
    "    if arquivo.endswith('.xlsx'):\n",
    "        # Extrai o nome da escola, ano e turma do arquivo\n",
    "        nome_arquivo, extensao = os.path.splitext(arquivo)\n",
    "        partes = nome_arquivo.split('_', 1)\n",
    "        if len(partes) == 2:\n",
    "            nome_escola, resto = partes\n",
    "            ano_turma, extensao = os.path.splitext(resto)\n",
    "            ano_turma_parts = ano_turma.split('_', 1)\n",
    "            if len(ano_turma_parts) == 2:\n",
    "                ano, turma = ano_turma_parts\n",
    "                \n",
    "                # Caminho completo para o arquivo XLSX\n",
    "                caminho_arquivo = os.path.join(caminho_pasta, arquivo)\n",
    "                \n",
    "                # Lê a planilha do arquivo XLSX\n",
    "                df_planilha = pd.read_excel(caminho_arquivo)\n",
    "                \n",
    "                # Extrai os nomes dos alunos da coluna A (supondo que os nomes estejam na coluna A)\n",
    "                alunos = df_planilha['NOME'].tolist()\n",
    "                \n",
    "                # Ordena os nomes dos alunos em ordem alfabética\n",
    "                alunos.sort()\n",
    "                \n",
    "                # Adiciona os dados à lista\n",
    "                dados.append({'Escola': nome_escola, 'Ano': ano, 'Turma': turma, 'Alunos': ', '.join(alunos)})\n",
    "                \n",
    "# Cria um DataFrame com os dados\n",
    "df = pd.DataFrame(dados)\n",
    "\n",
    "# Exporta o DataFrame para um arquivo XLSX\n",
    "df.to_excel('dados_com_alunos.xlsx', index=False)\n"
   ]
  }
 ],
 "metadata": {
  "kernelspec": {
   "display_name": "Python 3.9.13 ('base')",
   "language": "python",
   "name": "python3"
  },
  "language_info": {
   "codemirror_mode": {
    "name": "ipython",
    "version": 3
   },
   "file_extension": ".py",
   "mimetype": "text/x-python",
   "name": "python",
   "nbconvert_exporter": "python",
   "pygments_lexer": "ipython3",
   "version": "3.9.13"
  },
  "orig_nbformat": 4,
  "vscode": {
   "interpreter": {
    "hash": "ad2bdc8ecc057115af97d19610ffacc2b4e99fae6737bb82f5d7fb13d2f2c186"
   }
  }
 },
 "nbformat": 4,
 "nbformat_minor": 2
}
